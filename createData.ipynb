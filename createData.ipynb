{
 "cells": [
  {
   "cell_type": "code",
   "execution_count": null,
   "metadata": {},
   "outputs": [],
   "source": [
    "import csv\n",
    "\n",
    "data = [\n",
    "    # {\"keyword\": \"variable declaration\", \"code\": \"var x = 5;\"},\n",
    "    # {\"keyword\": \"function declaration\", \"code\": \"function myFunction() {\\n  // code here\\n}\"},\n",
    "    # {\"keyword\": \"if statement\", \"code\": \"if (condition) {\\n  // code here\\n} else {\\n  // code here\\n}\"},\n",
    "    # {\"keyword\": \"for loop\", \"code\": \"for (var i = 0; i < 10; i++) {\\n  // code here\\n}\"},\n",
    "    # {\"keyword\": \"while loop\", \"code\": \"while (condition) {\\n  // code here\\n}\"},\n",
    "    # {\"keyword\": \"switch statement\", \"code\": \"switch (expression) {\\n  case value1:\\n    // code here\\n    break;\\n  case value2:\\n    // code here\\n    break;\\n  default:\\n    // code here\\n}\"},\n",
    "    # {\"keyword\": \"array declaration\", \"code\": \"var arr = [1, 2, 3];\"},\n",
    "    # {\"keyword\": \"object declaration\", \"code\": \"var obj = {key: value};\"},\n",
    "    # {\"keyword\": \"arrow function declaration\", \"code\": \"var myFunc = () => {\\n  // code here\\n}\"},\n",
    "    # {\"keyword\": \"template literals\", \"code\": \"var name = 'John';\\nconsole.log(`Hello, ${name}!`);\"},\n",
    "    # {\"keyword\": \"try catch statement\", \"code\": \"try {\\n  // code here\\n} catch (error) {\\n  // code here\\n}\"}\n",
    "        # Additional key-value pairs\n",
    "    # {\"keyword\": \"async function declaration\", \"code\": \"async function myAsyncFunction() {\\n  // code here\\n}\"},\n",
    "    # {\"keyword\": \"promise declaration\", \"code\": \"const myPromise = new Promise((resolve, reject) => {\\n  // code here\\n});\"},\n",
    "    # {\"keyword\": \"fetch API\", \"code\": \"fetch('https://api.example.com/data')\\n  .then(response => response.json())\\n  .then(data => console.log(data))\\n  .catch(error => console.error('Error:', error));\"},\n",
    "    # {\"keyword\": \"async/await\", \"code\": \"async function fetchData() {\\n  try {\\n    const response = await fetch('https://api.example.com/data');\\n    const data = await response.json();\\n    console.log(data);\\n  } catch (error) {\\n    console.error('Error:', error);\\n  }\\n}\"},\n",
    "    # {\"keyword\": \"array forEach method\", \"code\": \"const numbers = [1, 2, 3];\\nnumbers.forEach(number => console.log(number));\"}\n",
    "]\n",
    "\n",
    "# csv_file_path = \"javascript_snippets.csv\"\n",
    "\n",
    "# with open(csv_file_path, \"w\", newline=\"\", encoding=\"utf-8\") as csvfile:\n",
    "#     fieldnames = [\"keyword\", \"code\"]\n",
    "#     writer = csv.DictWriter(csvfile, fieldnames=fieldnames)\n",
    "    \n",
    "#     writer.writeheader()\n",
    "#     for item in data:\n",
    "#         writer.writerow(item)\n",
    "\n",
    "# print(f\"Dataset saved to {csv_file_path}\")\n",
    "\n",
    "csv_file_path = \"javascript_snippets.csv\"\n",
    "\n",
    "with open(csv_file_path, \"a\", newline=\"\", encoding=\"utf-8\") as csvfile:\n",
    "    fieldnames = [\"keyword\", \"code\"]\n",
    "    writer = csv.DictWriter(csvfile, fieldnames=fieldnames)\n",
    "    \n",
    "    # Only write the header if the file is empty\n",
    "    if csvfile.tell() == 0:\n",
    "        writer.writeheader()\n",
    "    \n",
    "    for item in data:\n",
    "        writer.writerow(item)\n",
    "\n",
    "print(f\"Dataset appended to {csv_file_path}\")\n",
    " "
   ]
  }
 ],
 "metadata": {
  "language_info": {
   "name": "python"
  }
 },
 "nbformat": 4,
 "nbformat_minor": 2
}
