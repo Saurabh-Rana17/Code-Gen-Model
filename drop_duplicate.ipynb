{
 "cells": [
  {
   "cell_type": "code",
   "execution_count": 7,
   "metadata": {},
   "outputs": [],
   "source": [
    "import pandas as pd\n",
    "\n",
    "data = pd.read_csv(\"javascript_snippets.csv\")\n",
    "df = pd.DataFrame(data)\n",
    "\n",
    "# Drop duplicates based on \"keyword\" column\n",
    "df.drop_duplicates(subset=[\"keyword\"], keep=\"first\", inplace=True)\n",
    "\n",
    "# Convert back to list of dictionaries\n",
    "data_no_duplicates = df.to_dict(orient=\"records\")\n",
    "\n",
    "df.to_csv(\"javascript_snippets.csv\", index=False)\n"
   ]
  },
  {
   "cell_type": "code",
   "execution_count": null,
   "metadata": {},
   "outputs": [],
   "source": []
  }
 ],
 "metadata": {
  "kernelspec": {
   "display_name": "Python 3",
   "language": "python",
   "name": "python3"
  },
  "language_info": {
   "codemirror_mode": {
    "name": "ipython",
    "version": 3
   },
   "file_extension": ".py",
   "mimetype": "text/x-python",
   "name": "python",
   "nbconvert_exporter": "python",
   "pygments_lexer": "ipython3",
   "version": "3.12.2"
  }
 },
 "nbformat": 4,
 "nbformat_minor": 2
}
